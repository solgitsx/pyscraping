{
 "cells": [
  {
   "cell_type": "markdown",
   "metadata": {},
   "source": [
    "# 4장 파일 읽고 쓰기와 문자열 처리"
   ]
  },
  {
   "cell_type": "markdown",
   "metadata": {},
   "source": [
    "## 4.1 파일 읽고 쓰기"
   ]
  },
  {
   "cell_type": "markdown",
   "metadata": {},
   "source": [
    "### 4.1.1 파일 읽고 쓰기 위한 기본 구조"
   ]
  },
  {
   "cell_type": "markdown",
   "metadata": {},
   "source": [
    "### 4.1.2 파일 읽기"
   ]
  },
  {
   "cell_type": "markdown",
   "metadata": {},
   "source": [
    "[4장: 130페이지]"
   ]
  },
  {
   "cell_type": "code",
   "execution_count": null,
   "metadata": {},
   "outputs": [],
   "source": [
    "%%writefile C:\\myPyScraping\\data\\ch04\\read_test.txt\n",
    "All grown-up\n",
    "were once children,\n",
    "although few of them\n",
    "remember it."
   ]
  },
  {
   "cell_type": "markdown",
   "metadata": {},
   "source": [
    "[4장: 131페이지]"
   ]
  },
  {
   "cell_type": "code",
   "execution_count": null,
   "metadata": {},
   "outputs": [],
   "source": [
    "f = open('C:/myPyScraping/data/ch04/read_test.txt', 'r') # 파일 열기(읽기 모드)\n",
    "data = f.read() # 파일의 내용 전체를 읽어서 변수에 할당\n",
    "f.close()       # 파일 닫기\n",
    "\n",
    "print(data)     # 읽어온 파일 내용 출력"
   ]
  },
  {
   "cell_type": "code",
   "execution_count": null,
   "metadata": {},
   "outputs": [],
   "source": [
    "# cp949로 인코딩된 한글 텍스트 파일 읽기 \n",
    "file_name='C:/myPyScraping/data/ch04/헌법_cp949.txt' # 파일 경로를 변수에 할당\n",
    "\n",
    "f = open(file_name, 'r', encoding='cp949') # 파일 열기(읽기 모드)\n",
    "# f = open(file_name)\n",
    "data = f.read() # 파일의 내용 전체를 읽어서 변수에 할당\n",
    "f.close()       # 파일 닫기\n",
    "\n",
    "print(data)     # 읽어온 파일 내용 출력"
   ]
  },
  {
   "cell_type": "markdown",
   "metadata": {},
   "source": [
    "[4장: 132페이지]"
   ]
  },
  {
   "cell_type": "code",
   "execution_count": null,
   "metadata": {
    "scrolled": true
   },
   "outputs": [],
   "source": [
    "# utf-8로 인코딩된 한글 텍스트 파일 읽기 \n",
    "file_name = 'C:/myPyScraping/data/ch04/헌법_utf8.txt' # 파일 경로를 변수에 할당\n",
    "\n",
    "f = open(file_name, 'r', encoding='utf-8') # 파일 열기(읽기 모드)\n",
    "data = f.read() # 파일의 내용 전체를 읽어서 변수에 할당\n",
    "f.close()       # 파일 닫기\n",
    "\n",
    "print(data)     # 읽어온 파일 내용 출력"
   ]
  },
  {
   "cell_type": "markdown",
   "metadata": {},
   "source": [
    "### 4.1.3 파일을 한 줄씩 읽어 처리하기"
   ]
  },
  {
   "cell_type": "markdown",
   "metadata": {},
   "source": [
    "#### 한 줄씩 읽어오기: `readline()`"
   ]
  },
  {
   "cell_type": "markdown",
   "metadata": {},
   "source": [
    "[4장: 133페이지]"
   ]
  },
  {
   "cell_type": "code",
   "execution_count": null,
   "metadata": {
    "scrolled": true
   },
   "outputs": [],
   "source": [
    "file_name = 'C:/myPyScraping/data/ch04/read_test.txt' # 파일 경로를 변수에 할당\n",
    "\n",
    "f = open(file_name, 'r') # 파일 열기(읽기 모드)\n",
    "\n",
    "line1 = f.readline() # 파일의 내용을 한 줄씩 읽어서 변수에 할당\n",
    "line2 = f.readline() # 파일의 내용을 한 줄씩 읽어서 변수에 할당\n",
    "f.close()  # 파일 닫기\n",
    "\n",
    "print(line1, end='') # print 자체의 개행문자는 출력하지 않고 내용 출력\n",
    "print(line2, end='')"
   ]
  },
  {
   "cell_type": "code",
   "execution_count": null,
   "metadata": {},
   "outputs": [],
   "source": [
    "file_name = 'C:/myPyScraping/data/ch04/read_test.txt' # 파일 경로를 변수에 할당\n",
    "\n",
    "f = open(file_name, 'r')  # 파일 열기(읽기 모드)\n",
    "line_num = 0 # 줄 수 표시를 위한 변수 초기화\n",
    "\n",
    "while True:              \n",
    "    line = f.readline()      # 파일의 내용을 한 줄씩 읽어서 변수에 할당\n",
    "    if (line == ''):         # line이 빈 문자열인지 검사 \n",
    "        break                # 빈 문자열이면 while문을 빠져나감\n",
    "    line_num = line_num + 1  # line_num 을 1씩 증가 \n",
    "    print(\"{0}: {1}\".format(line_num, line), end='') # 줄 수와 읽은 문자열 출력\n",
    "    \n",
    "f.close() # 파일 닫기"
   ]
  },
  {
   "cell_type": "markdown",
   "metadata": {},
   "source": [
    "#### 한 줄씩을 요소로 갖는 리스트로 읽어오기:  `readlines()`"
   ]
  },
  {
   "cell_type": "markdown",
   "metadata": {},
   "source": [
    "[4장: 134페이지]"
   ]
  },
  {
   "cell_type": "code",
   "execution_count": null,
   "metadata": {},
   "outputs": [],
   "source": [
    "file_name = 'C:/myPyScraping/data/ch04/read_test.txt' # 파일 경로를 변수에 할당\n",
    "\n",
    "f = open(file_name, 'r') # 파일 열기(읽기 모드)\n",
    "lines = f.readlines()    # 파일 전체의 내용을 읽어서 변수에 할당\n",
    "f.close()                # 파일 닫기\n",
    "\n",
    "print(lines)"
   ]
  },
  {
   "cell_type": "code",
   "execution_count": null,
   "metadata": {},
   "outputs": [],
   "source": [
    "file_name = 'C:/myPyScraping/data/ch04/read_test.txt' # 파일 경로를 변수에 할당\n",
    "\n",
    "f = open(file_name, 'r') # 파일 열기(읽기 모드)\n",
    "lines = f.readlines()    # 파일 전체의 내용을 읽어서 변수에 할당\n",
    "f.close() # 파일 닫기\n",
    "\n",
    "line_num = 0 # 줄 수 표시를 위한 변수 초기화\n",
    "for line in lines:\n",
    "    line_num = line_num + 1  # line_num 을 1씩 증가 \n",
    "    print(\"{0}: {1}\".format(line_num, line), end='') # 줄 수와 읽은 문자열 출력"
   ]
  },
  {
   "cell_type": "markdown",
   "metadata": {},
   "source": [
    "### 4.1.4 파일 쓰기"
   ]
  },
  {
   "cell_type": "markdown",
   "metadata": {},
   "source": [
    "[4장: 135페이지]"
   ]
  },
  {
   "cell_type": "code",
   "execution_count": null,
   "metadata": {},
   "outputs": [],
   "source": [
    "file_name = 'C:/myPyScraping/data/ch04/write_test.txt' # 파일 경로를 변수에 할당\n",
    "\n",
    "f = open(file_name, 'w') # 파일 열기(쓰기 모드)\n",
    "f.write(\"Python is powerful... and fast;\\n\") # 문자열을 파일에 쓰기\n",
    "f.write(\"plays well with others;\\n\")\n",
    "f.write(\"runs everywhere;\\n\")\n",
    "f.write(\"is friendly & easy to learn;\\n\")\n",
    "f.write(\"is Open.\\n\")\n",
    "f.close() # 파일 닫기\n",
    "\n",
    "print(\"생성한 파일:\", file_name) # 생성한 파일 이름 출력"
   ]
  },
  {
   "cell_type": "markdown",
   "metadata": {},
   "source": [
    "[4장: 136페이지]"
   ]
  },
  {
   "cell_type": "code",
   "execution_count": null,
   "metadata": {},
   "outputs": [],
   "source": [
    "!type C:\\myPyScraping\\data\\ch04\\write_test.txt"
   ]
  },
  {
   "cell_type": "code",
   "execution_count": null,
   "metadata": {},
   "outputs": [],
   "source": [
    "file_name = 'C:/myPyScraping/data/ch04/two_times.txt' # 파일 경로를 변수에 할당\n",
    "\n",
    "f = open(file_name, 'w') # 파일 열기(쓰기 모드)\n",
    "f.write(\"[구구단 2단의 일부]\\n\")\n",
    "for num in range(1, 6): # for문: num이 1~5까지 반복\n",
    "    format_string = \"2 x {0} = {1}\\n\".format(num, 2 * num) # 저장할 문자열 생성\n",
    "    f.write(format_string) # 파일에 문자열 쓰기\n",
    "f.close() # 파일 닫기\n",
    "\n",
    "print(\"생성한 파일:\", file_name) # 생성한 파일 이름 출력"
   ]
  },
  {
   "cell_type": "code",
   "execution_count": null,
   "metadata": {},
   "outputs": [],
   "source": [
    "!type C:\\myPyScraping\\data\\ch04\\two_times.txt"
   ]
  },
  {
   "cell_type": "markdown",
   "metadata": {},
   "source": [
    "### 4.1.5 with 문으로 파일 읽고 쓰기 "
   ]
  },
  {
   "cell_type": "markdown",
   "metadata": {},
   "source": [
    "[4장: 137페이지]"
   ]
  },
  {
   "cell_type": "code",
   "execution_count": null,
   "metadata": {},
   "outputs": [],
   "source": [
    "file_name = 'C:/myPyScraping/data/ch04/three_times.txt' # 파일 경로를 변수에 할당\n",
    "\n",
    "with open(file_name, 'w') as f:       # 파일 열기(쓰기 모드)\n",
    "    f.write(\"[구구단 3단의 일부]\\n\")   \n",
    "    for num in range(1, 6):            # for문: num이 1~5까지 반복\n",
    "        format_string = \"3 x {0} = {1}\\n\".format(num, 3 * num) # 저장할 문자열 생성\n",
    "        f.write(format_string)        # 파일에 문자열 쓰기"
   ]
  },
  {
   "cell_type": "code",
   "execution_count": null,
   "metadata": {},
   "outputs": [],
   "source": [
    "with open(file_name, 'r') as f:  # 파일 열기(읽기 모드)\n",
    "    data = f.read()               # 파일에서 문자열 읽기\n",
    "    print(data)"
   ]
  },
  {
   "cell_type": "markdown",
   "metadata": {},
   "source": [
    "## 4.2 문자열 처리"
   ]
  },
  {
   "cell_type": "markdown",
   "metadata": {},
   "source": [
    "### 4.2.1 문자열 분리하기: `split()`"
   ]
  },
  {
   "cell_type": "markdown",
   "metadata": {},
   "source": [
    "[4장: 138페이지]"
   ]
  },
  {
   "cell_type": "code",
   "execution_count": null,
   "metadata": {},
   "outputs": [],
   "source": [
    "\"에스프레소,아메리카노,카페라테,카푸치노\".split(',')"
   ]
  },
  {
   "cell_type": "code",
   "execution_count": null,
   "metadata": {},
   "outputs": [],
   "source": [
    "\"  에스프레소 아메리카노   카페라테      카푸치노\\n\".split()"
   ]
  },
  {
   "cell_type": "markdown",
   "metadata": {},
   "source": [
    "### 4.2.2 불필요한 문자열 삭제하기: `strip()`"
   ]
  },
  {
   "cell_type": "markdown",
   "metadata": {},
   "source": [
    "[4장: 139페이지]"
   ]
  },
  {
   "cell_type": "code",
   "execution_count": null,
   "metadata": {},
   "outputs": [],
   "source": [
    "\"aaaaPythonaaa\".strip('a')"
   ]
  },
  {
   "cell_type": "code",
   "execution_count": null,
   "metadata": {},
   "outputs": [],
   "source": [
    "\"\\n  Python  \\n\\n\".strip()"
   ]
  },
  {
   "cell_type": "markdown",
   "metadata": {},
   "source": [
    "### 4.2.3 문자열 연결하기: `join()`"
   ]
  },
  {
   "cell_type": "markdown",
   "metadata": {},
   "source": [
    "[4장: 140페이지]"
   ]
  },
  {
   "cell_type": "code",
   "execution_count": null,
   "metadata": {},
   "outputs": [],
   "source": [
    "\" \".join([\"서울시\",\"서초구\",\"반포대로\",\"201(반포동)\"])"
   ]
  },
  {
   "cell_type": "code",
   "execution_count": null,
   "metadata": {},
   "outputs": [],
   "source": [
    "\"****\".join([\"서울시\",\"서초구\",\"반포대로\",\"201(반포동)\"])"
   ]
  },
  {
   "cell_type": "code",
   "execution_count": null,
   "metadata": {},
   "outputs": [],
   "source": [
    "joined_str = \"\\n\".join([\"서울시\",\"서초구\",\"반포대로\",\"201(반포동)\"])\n",
    "joined_str"
   ]
  },
  {
   "cell_type": "code",
   "execution_count": null,
   "metadata": {},
   "outputs": [],
   "source": [
    "print(joined_str)"
   ]
  },
  {
   "cell_type": "markdown",
   "metadata": {},
   "source": [
    "### 4.2.4 문자열 찾기: `find()`, `count()`, `startswith()`, `endswith()`"
   ]
  },
  {
   "cell_type": "markdown",
   "metadata": {},
   "source": [
    "[4장: 141페이지]"
   ]
  },
  {
   "cell_type": "code",
   "execution_count": null,
   "metadata": {},
   "outputs": [],
   "source": [
    "str_p = \"Python is powerful. Python is easy.\"\n",
    "\n",
    "print(str_p.find(\"Python\"))         # 전체 범위\n",
    "print(str_p.find(\"Python\", 10, 30)) # 시작과 끝 범위 지정\n",
    "print(str_p.find(\"easy\"))           # 전체 범위\n",
    "print(str_p.find(\"Python\", 21))     # 시작 범위 지정. 일치하는 문자열 없음\n",
    "print(str_p.find(\"Jupyter\"))        # 전체 범위. 일치하는 문자열 없음"
   ]
  },
  {
   "cell_type": "markdown",
   "metadata": {},
   "source": [
    "[4장: 142페이지]"
   ]
  },
  {
   "cell_type": "code",
   "execution_count": null,
   "metadata": {},
   "outputs": [],
   "source": [
    "print(str_p.count(\"Python\"))         # 전체 범위\n",
    "print(str_p.count(\"Python\", 10, 30)) # 시작과 끝 범위 지정\n",
    "print(str_p.count(\"easy\"))           # 전체 범위\n",
    "print(str_p.count(\"Python\", 21))     # 시작 범위 지정. 일치하는 문자열 없음\n",
    "print(str_p.count(\"Jupyter\"))        # 전체 범위. 일치하는 문자열 없음"
   ]
  },
  {
   "cell_type": "markdown",
   "metadata": {},
   "source": [
    "[4장: 143페이지]"
   ]
  },
  {
   "cell_type": "code",
   "execution_count": null,
   "metadata": {
    "scrolled": true
   },
   "outputs": [],
   "source": [
    "print(\"- 문자열이 'Python'으로 시작?\", str_p.startswith(\"Python\"))\n",
    "print(\"- 문자열이 'powerful'로 시작?\", str_p.startswith(\"powerful\"))\n",
    "print(\"- 지정 범위에서 'powerful'로 시작?\", str_p.startswith(\"powerful\",10))\n",
    "print(\"- 문자열이 'easy.'으로 끝?\", str_p.endswith(\"easy.\"))"
   ]
  },
  {
   "cell_type": "markdown",
   "metadata": {},
   "source": [
    "### 4.2.5 문자열 바꾸기: `replace()`"
   ]
  },
  {
   "cell_type": "markdown",
   "metadata": {},
   "source": [
    "[4장: 143페이지]"
   ]
  },
  {
   "cell_type": "code",
   "execution_count": null,
   "metadata": {},
   "outputs": [],
   "source": [
    "str_o = \"Python is powerful. Python is easy. Python is open.\"\n",
    "print(str_o.replace(\"Python\", \"IPython\"))    # 전체 범위\n",
    "print(str_o.replace(\"Python\", \"IPython\", 2)) # 횟수 지정"
   ]
  },
  {
   "cell_type": "markdown",
   "metadata": {},
   "source": [
    "### 4.2.6 대소문자 변경하기: `lower()`, `upper()`"
   ]
  },
  {
   "cell_type": "markdown",
   "metadata": {},
   "source": [
    "[4장: 144페이지]"
   ]
  },
  {
   "cell_type": "code",
   "execution_count": null,
   "metadata": {},
   "outputs": [],
   "source": [
    "str_lu = \"Python is powerful. PYTHON IS EASY.\"\n",
    "print(str_lu.lower()) # 문자열을 모두 소문자로 바꾸기\n",
    "print(str_lu.upper()) # 문자열을 모두 대문자로 바꾸기"
   ]
  },
  {
   "cell_type": "markdown",
   "metadata": {},
   "source": [
    "## 4.3 정리"
   ]
  }
 ],
 "metadata": {
  "kernelspec": {
   "display_name": "Python 3 (ipykernel)",
   "language": "python",
   "name": "python3"
  },
  "language_info": {
   "codemirror_mode": {
    "name": "ipython",
    "version": 3
   },
   "file_extension": ".py",
   "mimetype": "text/x-python",
   "name": "python",
   "nbconvert_exporter": "python",
   "pygments_lexer": "ipython3",
   "version": "3.11.4"
  },
  "toc": {
   "base_numbering": "4",
   "nav_menu": {},
   "number_sections": false,
   "sideBar": true,
   "skip_h1_title": false,
   "title_cell": "Table of Contents",
   "title_sidebar": "Contents",
   "toc_cell": false,
   "toc_position": {
    "height": "calc(100% - 180px)",
    "left": "10px",
    "top": "150px",
    "width": "362px"
   },
   "toc_section_display": true,
   "toc_window_display": false
  }
 },
 "nbformat": 4,
 "nbformat_minor": 2
}
